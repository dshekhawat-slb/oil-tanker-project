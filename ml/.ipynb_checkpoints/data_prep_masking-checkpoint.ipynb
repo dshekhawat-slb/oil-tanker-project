{
 "cells": [
  {
   "cell_type": "code",
   "execution_count": 21,
   "metadata": {},
   "outputs": [],
   "source": [
    "import json\n",
    "import pandas as pd\n",
    "from PIL import Image\n",
    "import PIL \n",
    "import numpy as np\n",
    "import cv2\n",
    "import matplotlib.pyplot as plt\n",
    "import ast\n",
    "import os"
   ]
  },
  {
   "cell_type": "markdown",
   "metadata": {},
   "source": [
    "#### Update JSON path"
   ]
  },
  {
   "cell_type": "code",
   "execution_count": 11,
   "metadata": {},
   "outputs": [],
   "source": [
    "#JSON Path\n",
    "path_data = '../data/Oil Tanks/'\n",
    "\n",
    "json_coco = json.load(open(path_data + 'labels_coco.json'))"
   ]
  },
  {
   "cell_type": "code",
   "execution_count": 12,
   "metadata": {},
   "outputs": [],
   "source": [
    "#Functions to extract center and radius from JSON\n",
    "\n",
    "def get_file(id):\n",
    "    image_mapping ={x['id']:x['file_name'] for x in json_coco['images']}\n",
    "    return image_mapping[id]\n",
    "\n",
    "def get_bbox_center_radius(bbox):\n",
    "\n",
    "    radius = int(0.5*max(bbox[2],bbox[3]))\n",
    "    center = (int(bbox[0]+radius), int(bbox[1]+radius))\n",
    "\n",
    "    return center, radius"
   ]
  },
  {
   "cell_type": "markdown",
   "metadata": {},
   "source": [
    "#### JSON CSV path"
   ]
  },
  {
   "cell_type": "code",
   "execution_count": 46,
   "metadata": {},
   "outputs": [],
   "source": [
    "csv_path =  '../data/b_box-dataframe/'\n",
    "\n",
    "if not os.path.isdir(csv_path):\n",
    "    os.mkdir(csv_path)"
   ]
  },
  {
   "cell_type": "code",
   "execution_count": 14,
   "metadata": {},
   "outputs": [],
   "source": [
    "#Extracting B-Box data frame from JSON\n",
    "\n",
    "annotations_mapping = {}\n",
    "for x in json_coco['annotations']:\n",
    "    # import ipdb; ipdb.set_trace()\n",
    "    key=x['image_id']\n",
    "    bbox=x['bbox']\n",
    "    center, radius = get_bbox_center_radius(bbox)\n",
    "\n",
    "    # if key is not in dict -> create list for key\n",
    "    if key not in annotations_mapping:\n",
    "        annotations_mapping[key] = [[],[],[]]\n",
    "    \n",
    "    l_centers_and_radius = annotations_mapping[key]\n",
    "    l_centers_and_radius[0].append(bbox)\n",
    "    l_centers_and_radius[1].append(center)\n",
    "    l_centers_and_radius[2].append(radius)\n",
    "    \n",
    "df_annotation_mapping = pd.DataFrame([[key,value[0],value[1],value[2]] for key,value in annotations_mapping.items()])\n",
    "df_annotation_mapping.columns = ['id','bbox', 'centers','radius']\n",
    "\n",
    "\n",
    "df_annotation_mapping.to_csv(csv_path + 'data_preproc.csv')"
   ]
  },
  {
   "cell_type": "code",
   "execution_count": 15,
   "metadata": {},
   "outputs": [],
   "source": [
    "#Preprocessing JSON B-Box data frame for Masking\n",
    "\n",
    "df = pd.read_csv(csv_path + 'data_preproc.csv')\n",
    "\n",
    "df['radius'] = df['radius'].apply(ast.literal_eval)\n",
    "df['centers'] = df['centers'].apply(ast.literal_eval)"
   ]
  },
  {
   "cell_type": "markdown",
   "metadata": {},
   "source": [
    "### update image patch "
   ]
  },
  {
   "cell_type": "code",
   "execution_count": 45,
   "metadata": {},
   "outputs": [],
   "source": [
    "img_path = '../data/Oil Tanks/image_patches/'\n",
    "\n",
    "mask_path = '../data/case1_tanks/output_mask/'\n",
    "\n",
    "if not os.path.isdir(mask_path):\n",
    "    os.mkdir(mask_path)"
   ]
  },
  {
   "cell_type": "code",
   "execution_count": 42,
   "metadata": {},
   "outputs": [],
   "source": [
    "# create masking from data_preproc file.\n",
    "\n",
    "for ix,data in df.iterrows():\n",
    "        file_name = get_file(data['id'])\n",
    "        \n",
    "        image_cv = cv2.imread(img_path+file_name)\n",
    "\n",
    "        mask = image_cv*0\n",
    "                \n",
    "        for idx in range(len(data['centers'])):\n",
    "            r = data.radius[idx]\n",
    "            c = list(data.centers[idx])\n",
    "\n",
    "            mask = cv2.circle(mask, center= c, radius = r, color = (255, 255, 255), thickness = -1)\n",
    "            \n",
    "            #plt.imshow(mask)\n",
    "        \n",
    "        mask = mask[:,:,0] #extend dimension will be required for CNN model input \n",
    "        mask_image = Image.fromarray(mask)\n",
    "        mask = mask_image.save(mask_path + file_name[:-4] + \"_mask.jpg\")\n",
    "        #mask_arr.append(mask)\n",
    "      "
   ]
  },
  {
   "cell_type": "markdown",
   "metadata": {},
   "source": [
    "### update case-1 path (Input images with tanks only) "
   ]
  },
  {
   "cell_type": "code",
   "execution_count": 44,
   "metadata": {},
   "outputs": [],
   "source": [
    "case1_img_path = '../data/case1_tanks/input_image'\n",
    "\n",
    "if not os.path.isdir(case1_img_path):\n",
    "    os.mkdir(case1_img_path)"
   ]
  },
  {
   "cell_type": "code",
   "execution_count": 28,
   "metadata": {},
   "outputs": [],
   "source": [
    "# extract input images with tanks\n",
    "\n",
    "for f_mask in os.listdir(mask_path):\n",
    "    f_mask_path = os.path.join(mask_path, f_mask)\n",
    "    for f in os.listdir(img_path):\n",
    "        f_path = os.path.join(img_path, f)\n",
    "        if f_mask_path.replace('_mask', '') == f_path:\n",
    "            im = Image.open(f_path)\n",
    "            save_image = im.save(case1_img_path + \"/\" + f)\n"
   ]
  }
 ],
 "metadata": {
  "kernelspec": {
   "display_name": "Python 3 (ipykernel)",
   "language": "python",
   "name": "python3"
  },
  "language_info": {
   "codemirror_mode": {
    "name": "ipython",
    "version": 3
   },
   "file_extension": ".py",
   "mimetype": "text/x-python",
   "name": "python",
   "nbconvert_exporter": "python",
   "pygments_lexer": "ipython3",
   "version": "3.8.12"
  },
  "toc": {
   "base_numbering": 1,
   "nav_menu": {},
   "number_sections": true,
   "sideBar": true,
   "skip_h1_title": false,
   "title_cell": "Table of Contents",
   "title_sidebar": "Contents",
   "toc_cell": false,
   "toc_position": {},
   "toc_section_display": true,
   "toc_window_display": false
  }
 },
 "nbformat": 4,
 "nbformat_minor": 1
}
