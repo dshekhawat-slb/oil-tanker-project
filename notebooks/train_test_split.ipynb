{
 "cells": [
  {
   "cell_type": "code",
   "execution_count": 1,
   "id": "524cbfc9",
   "metadata": {},
   "outputs": [
    {
     "name": "stdout",
     "output_type": "stream",
     "text": [
      "/home/pi/code/asinha1992/project/data/oil-tanker-project/notebooks\r\n"
     ]
    }
   ],
   "source": [
    "!pwd"
   ]
  },
  {
   "cell_type": "code",
   "execution_count": 2,
   "id": "2161a9b3-672c-4a29-9f1a-f49351415c38",
   "metadata": {},
   "outputs": [],
   "source": [
    "import os"
   ]
  },
  {
   "cell_type": "code",
   "execution_count": 3,
   "id": "3942c0af",
   "metadata": {},
   "outputs": [],
   "source": [
    "mask_path = '../data/case1_tanks/output_mask'\n",
    "img_path = '../data/case1_tanks/input_image'\n",
    "input_image_train = '../data/case1_tanks/input_image_train'\n",
    "input_image_val = '../data/case1_tanks/input_image_val'\n",
    "input_image_test = '../data/case1_tanks/input_image_test'\n",
    "output_mask_train = '../data/case1_tanks/output_mask_train'\n",
    "output_mask_val = '../data/case1_tanks/output_mask_val'\n",
    "output_mask_test = '../data/case1_tanks/output_mask_test'\n",
    "\n",
    "paths = [input_image_train, input_image_val, input_image_test, output_mask_train, output_mask_val, output_mask_test ]\n",
    "\n",
    "for path in paths:\n",
    "    if not os.path.isdir(path):\n",
    "        os.mkdir(path)"
   ]
  },
  {
   "cell_type": "code",
   "execution_count": 4,
   "id": "3a53441a",
   "metadata": {},
   "outputs": [],
   "source": [
    "import cv2"
   ]
  },
  {
   "cell_type": "code",
   "execution_count": 5,
   "id": "85237600",
   "metadata": {},
   "outputs": [],
   "source": [
    "import cv2\n",
    "def train_test_split(input_path, path_train, path_val, path_test):\n",
    "    \n",
    "    for f in os.listdir(input_path):\n",
    "        f_path = os.path.join(input_path, f)\n",
    "        #print(f, f_path)\n",
    "        city = int(f.split('_')[0])\n",
    "        #print(city)\n",
    "\n",
    "        if city<81:\n",
    "            im = cv2.imread(f_path)\n",
    "            img = cv2.imwrite(path_train + \"/\" + f, im)\n",
    "        elif city > 80 and city < 91:\n",
    "            im = cv2.imread(f_path)\n",
    "            img = cv2.imwrite(path_val + \"/\" + f, im)\n",
    "        elif city > 90:\n",
    "            im = cv2.imread(f_path)\n",
    "            img = cv2.imwrite(path_test + \"/\" + f, im)\n"
   ]
  },
  {
   "cell_type": "code",
   "execution_count": 6,
   "id": "50c29c2e",
   "metadata": {},
   "outputs": [],
   "source": [
    "train_test_split(mask_path, output_mask_train,output_mask_val, output_mask_test )"
   ]
  },
  {
   "cell_type": "code",
   "execution_count": 7,
   "id": "54f2b22a",
   "metadata": {},
   "outputs": [],
   "source": [
    "train_test_split(img_path, input_image_train,input_image_val, input_image_test )"
   ]
  },
  {
   "cell_type": "code",
   "execution_count": null,
   "id": "c1682a09",
   "metadata": {},
   "outputs": [],
   "source": []
  }
 ],
 "metadata": {
  "environment": {
   "kernel": "python3",
   "name": "tf2-gpu.2-8.m100",
   "type": "gcloud",
   "uri": "gcr.io/deeplearning-platform-release/tf2-gpu.2-8:m100"
  },
  "kernelspec": {
   "display_name": "Python 3 (ipykernel)",
   "language": "python",
   "name": "python3"
  },
  "language_info": {
   "codemirror_mode": {
    "name": "ipython",
    "version": 3
   },
   "file_extension": ".py",
   "mimetype": "text/x-python",
   "name": "python",
   "nbconvert_exporter": "python",
   "pygments_lexer": "ipython3",
   "version": "3.8.12"
  },
  "toc": {
   "base_numbering": 1,
   "nav_menu": {},
   "number_sections": true,
   "sideBar": true,
   "skip_h1_title": false,
   "title_cell": "Table of Contents",
   "title_sidebar": "Contents",
   "toc_cell": false,
   "toc_position": {},
   "toc_section_display": true,
   "toc_window_display": false
  }
 },
 "nbformat": 4,
 "nbformat_minor": 5
}
