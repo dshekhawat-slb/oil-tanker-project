{
 "cells": [
  {
   "cell_type": "code",
   "execution_count": 1,
   "id": "62b702a7",
   "metadata": {},
   "outputs": [
    {
     "name": "stderr",
     "output_type": "stream",
     "text": [
      "2022-12-01 09:32:02.757501: W tensorflow/stream_executor/platform/default/dso_loader.cc:64] Could not load dynamic library 'libcudart.so.11.0'; dlerror: libcudart.so.11.0: cannot open shared object file: No such file or directory; LD_LIBRARY_PATH: /home/pi/.pyenv/versions/3.8.12/envs/lewagon/lib/python3.8/site-packages/cv2/../../lib64:\n",
      "2022-12-01 09:32:02.757540: I tensorflow/stream_executor/cuda/cudart_stub.cc:29] Ignore above cudart dlerror if you do not have a GPU set up on your machine.\n"
     ]
    }
   ],
   "source": [
    "import os\n",
    "import cv2\n",
    "import tensorflow as tf\n",
    "from tensorflow.keras.metrics import MeanIoU\n",
    "import matplotlib.pyplot as plt\n",
    "import numpy as np\n",
    "from sklearn.metrics import accuracy_score"
   ]
  },
  {
   "cell_type": "code",
   "execution_count": 2,
   "id": "d3bbc321",
   "metadata": {},
   "outputs": [],
   "source": [
    "mask_path = '../Oil Tanks/image_patches_mask'\n"
   ]
  },
  {
   "cell_type": "code",
   "execution_count": 25,
   "id": "011a34b5",
   "metadata": {},
   "outputs": [],
   "source": [
    "base_accuracy = []\n",
    "for file in os.listdir(mask_path):\n",
    "    break\n",
    "    mask_iamge = cv2.imread(mask_path+'/'+file)\n",
    "#     break\n",
    "    mask_iamge = mask_iamge[:,:,0]/255\n",
    "    break\n",
    "    mask_iamge[mask_iamge>0.5]=1\n",
    "#     break\n",
    "    mask_iamge[mask_iamge<0.5]=0\n",
    "    mask_iamge = mask_iamge.reshape(512*512)\n",
    "    black_iamge = mask_iamge*0\n",
    "    base_accuracy.append(accuracy_score(mask_iamge,black_iamge ))"
   ]
  },
  {
   "cell_type": "code",
   "execution_count": 28,
   "id": "2e66dfc3",
   "metadata": {},
   "outputs": [
    {
     "data": {
      "text/plain": [
       "array([1.        , 0.98431373, 1.        , ..., 0.97647059, 1.        ,\n",
       "       1.        ])"
      ]
     },
     "execution_count": 28,
     "metadata": {},
     "output_type": "execute_result"
    }
   ],
   "source": [
    "mask_iamge[mask_iamge>0.5]"
   ]
  },
  {
   "cell_type": "code",
   "execution_count": 20,
   "id": "ca4578d4",
   "metadata": {},
   "outputs": [
    {
     "ename": "TypeError",
     "evalue": "'>' not supported between instances of 'str' and 'float'",
     "output_type": "error",
     "traceback": [
      "\u001b[0;31m---------------------------------------------------------------------------\u001b[0m",
      "\u001b[0;31mTypeError\u001b[0m                                 Traceback (most recent call last)",
      "\u001b[0;32m/tmp/ipykernel_17780/1145950877.py\u001b[0m in \u001b[0;36m<module>\u001b[0;34m\u001b[0m\n\u001b[1;32m      1\u001b[0m \u001b[0;31m# mask_iamge = mask_iamge[:,:,0]/255\u001b[0m\u001b[0;34m\u001b[0m\u001b[0;34m\u001b[0m\u001b[0;34m\u001b[0m\u001b[0m\n\u001b[0;32m----> 2\u001b[0;31m \u001b[0mmask_iamge\u001b[0m\u001b[0;34m[\u001b[0m\u001b[0mmask_path\u001b[0m\u001b[0;34m>\u001b[0m\u001b[0;36m0.5\u001b[0m\u001b[0;34m]\u001b[0m\u001b[0;34m\u001b[0m\u001b[0;34m\u001b[0m\u001b[0m\n\u001b[0m",
      "\u001b[0;31mTypeError\u001b[0m: '>' not supported between instances of 'str' and 'float'"
     ]
    }
   ],
   "source": [
    "# mask_iamge = mask_iamge[:,:,0]/255\n",
    "mask_iamge[mask_path>0.5]"
   ]
  },
  {
   "cell_type": "code",
   "execution_count": 81,
   "id": "faec595c",
   "metadata": {},
   "outputs": [
    {
     "data": {
      "text/plain": [
       "0.9374654907417895"
      ]
     },
     "execution_count": 81,
     "metadata": {},
     "output_type": "execute_result"
    }
   ],
   "source": [
    "np.mean(base_accuracy)"
   ]
  },
  {
   "cell_type": "code",
   "execution_count": 35,
   "id": "a0a61b52",
   "metadata": {},
   "outputs": [],
   "source": [
    "def dice_loss(y_true, y_pred):\n",
    "  y_true = tf.cast(y_true, tf.float32)\n",
    "  numerator = 2 * tf.reduce_sum(y_true * y_pred)\n",
    "  denominator = tf.reduce_sum(y_true + y_pred)\n",
    "\n",
    "  return numerator / denominator"
   ]
  },
  {
   "cell_type": "code",
   "execution_count": 49,
   "id": "b1ae54d9",
   "metadata": {
    "scrolled": true
   },
   "outputs": [
    {
     "data": {
      "image/png": "[encoded data removed]",
      "text/plain": [
       "<Figure size 432x288 with 1 Axes>"
      ]
     },
     "metadata": {
      "needs_background": "light"
     },
     "output_type": "display_data"
    }
   ],
   "source": [
    "loss_list = []\n",
    "for file in os.listdir(mask_path):\n",
    "    mask_iamge = cv2.imread(mask_path+'/'+file)\n",
    "    mask_iamge = mask_iamge[:,:,0]/255\n",
    "    black_iamge = mask_iamge*0\n",
    "    black_iamge.shape, mask_iamge.shape\n",
    "\n",
    "    plt.imshow(black_iamge)\n",
    "    loss_list.append(dice_loss(mask_iamge, black_iamge).numpy())\n"
   ]
  },
  {
   "cell_type": "code",
   "execution_count": 55,
   "id": "89571eda",
   "metadata": {},
   "outputs": [
    {
     "data": {
      "text/plain": [
       "0.0"
      ]
     },
     "execution_count": 55,
     "metadata": {},
     "output_type": "execute_result"
    }
   ],
   "source": [
    "dice_loss(mask_iamge, black_iamge).numpy()"
   ]
  },
  {
   "cell_type": "code",
   "execution_count": 54,
   "id": "76dbde4c",
   "metadata": {},
   "outputs": [
    {
     "data": {
      "text/plain": [
       "0.0"
      ]
     },
     "execution_count": 54,
     "metadata": {},
     "output_type": "execute_result"
    }
   ],
   "source": [
    "np.mean(loss_list)"
   ]
  }
 ],
 "metadata": {
  "kernelspec": {
   "display_name": "Python 3 (ipykernel)",
   "language": "python",
   "name": "python3"
  },
  "language_info": {
   "codemirror_mode": {
    "name": "ipython",
    "version": 3
   },
   "file_extension": ".py",
   "mimetype": "text/x-python",
   "name": "python",
   "nbconvert_exporter": "python",
   "pygments_lexer": "ipython3",
   "version": "3.8.12"
  },
  "toc": {
   "base_numbering": 1,
   "nav_menu": {},
   "number_sections": true,
   "sideBar": true,
   "skip_h1_title": false,
   "title_cell": "Table of Contents",
   "title_sidebar": "Contents",
   "toc_cell": false,
   "toc_position": {},
   "toc_section_display": true,
   "toc_window_display": false
  }
 },
 "nbformat": 4,
 "nbformat_minor": 5
}
