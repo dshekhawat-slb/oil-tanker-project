{
 "cells": [
  {
   "cell_type": "code",
   "execution_count": null,
   "id": "6f2ea31d",
   "metadata": {},
   "outputs": [],
   "source": [
    "#!pip install opencv-python"
   ]
  },
  {
   "cell_type": "code",
   "execution_count": 1,
   "id": "a260110d",
   "metadata": {},
   "outputs": [],
   "source": [
    "from PIL import Image\n",
    "import PIL \n",
    "import numpy as np\n",
    "import cv2\n",
    "import matplotlib.pyplot as plt\n",
    "import pandas as pd\n",
    "import ast"
   ]
  },
  {
   "cell_type": "code",
   "execution_count": null,
   "id": "d8e52959",
   "metadata": {},
   "outputs": [],
   "source": [
    "#path = '../data/Oil Tanks/image_patches/01_0_0.jpg'"
   ]
  },
  {
   "cell_type": "code",
   "execution_count": 2,
   "id": "75df4523",
   "metadata": {},
   "outputs": [],
   "source": [
    "data_preproc=pd.read_csv('../data/b_box-dataframe/data_preproc.csv')\n",
    "df = data_preproc"
   ]
  },
  {
   "cell_type": "code",
   "execution_count": 3,
   "id": "90341a6a",
   "metadata": {},
   "outputs": [],
   "source": [
    "df['radius'] = df['radius'].apply(ast.literal_eval)\n",
    "df['centers'] = df['centers'].apply(ast.literal_eval)"
   ]
  },
  {
   "cell_type": "code",
   "execution_count": 4,
   "id": "a3dd4428",
   "metadata": {},
   "outputs": [],
   "source": [
    "import json\n",
    "\n",
    "#Provide local path to this JSON file \n",
    "JSON_path = '../data/Oil Tanks/labels_coco.json'\n",
    "\n",
    "json_dict = json.load(open(JSON_path))\n",
    "\n",
    "mapping = {x['id']:x['file_name'] for x in json_dict['images'] }"
   ]
  },
  {
   "cell_type": "code",
   "execution_count": 8,
   "id": "aa782fce",
   "metadata": {},
   "outputs": [
    {
     "data": {
      "text/plain": [
       "(512, 512, 3)"
      ]
     },
     "execution_count": 8,
     "metadata": {},
     "output_type": "execute_result"
    }
   ],
   "source": [
    "image_cv.shape"
   ]
  },
  {
   "cell_type": "code",
   "execution_count": 9,
   "id": "35c2bf33",
   "metadata": {
    "scrolled": true
   },
   "outputs": [
    {
     "data": {
      "text/plain": [
       "(512, 512, 1)"
      ]
     },
     "execution_count": 9,
     "metadata": {},
     "output_type": "execute_result"
    }
   ],
   "source": [
    "(image_cv*0)[:len(image_cv),:len(image_cv),0:1].shape"
   ]
  },
  {
   "cell_type": "code",
   "execution_count": 10,
   "id": "f757ee73",
   "metadata": {},
   "outputs": [
    {
     "data": {
      "text/plain": [
       "array([[[0],\n",
       "        [0],\n",
       "        [0]],\n",
       "\n",
       "       [[0],\n",
       "        [0],\n",
       "        [0]],\n",
       "\n",
       "       [[0],\n",
       "        [0],\n",
       "        [0]]])"
      ]
     },
     "execution_count": 10,
     "metadata": {},
     "output_type": "execute_result"
    }
   ],
   "source": [
    "np.full((len(image_cv), len(image_cv), 1), fill_value = 0, dtype=None)"
   ]
  },
  {
   "cell_type": "code",
   "execution_count": null,
   "id": "85d56bb5",
   "metadata": {},
   "outputs": [],
   "source": [
    "np.array([len(image_cv), 2])\n",
    "a.fill(0)"
   ]
  },
  {
   "cell_type": "code",
   "execution_count": null,
   "id": "bdef6983",
   "metadata": {},
   "outputs": [],
   "source": [
    "np.fi"
   ]
  },
  {
   "cell_type": "code",
   "execution_count": 13,
   "id": "509e5da4",
   "metadata": {},
   "outputs": [
    {
     "data": {
      "text/plain": [
       "[304, 443]"
      ]
     },
     "execution_count": 13,
     "metadata": {},
     "output_type": "execute_result"
    }
   ],
   "source": [
    "c"
   ]
  },
  {
   "cell_type": "code",
   "execution_count": 11,
   "id": "75623e13",
   "metadata": {},
   "outputs": [
    {
     "ename": "error",
     "evalue": "OpenCV(4.6.0) :-1: error: (-5:Bad argument) in function 'circle'\n> Overload resolution failed:\n>  - Layout of the output array img is incompatible with cv::Mat\n>  - Expected Ptr<cv::UMat> for argument 'img'\n",
     "output_type": "error",
     "traceback": [
      "\u001b[0;31m---------------------------------------------------------------------------\u001b[0m",
      "\u001b[0;31merror\u001b[0m                                     Traceback (most recent call last)",
      "\u001b[0;32m/tmp/ipykernel_3740/866131735.py\u001b[0m in \u001b[0;36m<module>\u001b[0;34m\u001b[0m\n\u001b[1;32m     16\u001b[0m             \u001b[0mc\u001b[0m \u001b[0;34m=\u001b[0m \u001b[0mlist\u001b[0m\u001b[0;34m(\u001b[0m\u001b[0mdata\u001b[0m\u001b[0;34m.\u001b[0m\u001b[0mcenters\u001b[0m\u001b[0;34m[\u001b[0m\u001b[0midx\u001b[0m\u001b[0;34m]\u001b[0m\u001b[0;34m)\u001b[0m\u001b[0;34m\u001b[0m\u001b[0;34m\u001b[0m\u001b[0m\n\u001b[1;32m     17\u001b[0m \u001b[0;34m\u001b[0m\u001b[0m\n\u001b[0;32m---> 18\u001b[0;31m             \u001b[0mmask\u001b[0m \u001b[0;34m=\u001b[0m \u001b[0mcv2\u001b[0m\u001b[0;34m.\u001b[0m\u001b[0mcircle\u001b[0m\u001b[0;34m(\u001b[0m\u001b[0mmask\u001b[0m\u001b[0;34m,\u001b[0m \u001b[0mcenter\u001b[0m\u001b[0;34m=\u001b[0m \u001b[0mc\u001b[0m\u001b[0;34m,\u001b[0m \u001b[0mradius\u001b[0m \u001b[0;34m=\u001b[0m \u001b[0mr\u001b[0m\u001b[0;34m,\u001b[0m \u001b[0mcolor\u001b[0m \u001b[0;34m=\u001b[0m \u001b[0;34m(\u001b[0m\u001b[0;36m255\u001b[0m\u001b[0;34m,\u001b[0m \u001b[0;36m255\u001b[0m\u001b[0;34m,\u001b[0m \u001b[0;36m255\u001b[0m\u001b[0;34m)\u001b[0m\u001b[0;34m,\u001b[0m \u001b[0mthickness\u001b[0m \u001b[0;34m=\u001b[0m \u001b[0;34m-\u001b[0m\u001b[0;36m1\u001b[0m\u001b[0;34m)\u001b[0m\u001b[0;34m\u001b[0m\u001b[0;34m\u001b[0m\u001b[0m\n\u001b[0m\u001b[1;32m     19\u001b[0m \u001b[0;34m\u001b[0m\u001b[0m\n\u001b[1;32m     20\u001b[0m             \u001b[0;31m#plt.imshow(mask)\u001b[0m\u001b[0;34m\u001b[0m\u001b[0;34m\u001b[0m\u001b[0;34m\u001b[0m\u001b[0m\n",
      "\u001b[0;31merror\u001b[0m: OpenCV(4.6.0) :-1: error: (-5:Bad argument) in function 'circle'\n> Overload resolution failed:\n>  - Layout of the output array img is incompatible with cv::Mat\n>  - Expected Ptr<cv::UMat> for argument 'img'\n"
     ]
    }
   ],
   "source": [
    "#Create following mask file path in your own directory\n",
    "\n",
    "\n",
    "#mask_arr = []\n",
    "\n",
    "for ix,data in df.iterrows():\n",
    "        file_name = mapping[data['id']]\n",
    "        path = '../data/Oil Tanks/image_patches/'\n",
    "        image_cv = cv2.imread(path+file_name)\n",
    "\n",
    "        mask = (image_cv*0)[:len(image_cv),:len(image_cv),0:1]\n",
    "        \n",
    "        \n",
    "        for idx in range(len(data['centers'])):\n",
    "            r = data.radius[idx]\n",
    "            c = list(data.centers[idx])\n",
    "\n",
    "            mask = cv2.circle(mask, center= c, radius = r, color = (255, 255, 255), thickness = -1)\n",
    "            \n",
    "            #plt.imshow(mask)\n",
    "            \n",
    "        mask_image = Image.fromarray(mask)\n",
    "        mask = mask_image.save('../data/Oil Tanks/image_patches_mask/'+file_name[:-4]+\"_mask.jpg\")\n",
    "        #mask_arr.append(mask)\n",
    "        \n",
    "        "
   ]
  },
  {
   "cell_type": "markdown",
   "id": "ec2cfff3",
   "metadata": {},
   "source": [
    "## Code Testing"
   ]
  },
  {
   "cell_type": "code",
   "execution_count": null,
   "id": "c502e7a3",
   "metadata": {},
   "outputs": [],
   "source": [
    "im1_masked = Image.open('../data/Oil Tanks/image_patches_mask/01_3_9_mask.jpg')\n",
    "im1 = Image.open('../data/Oil Tanks/image_patches/01_3_9.jpg')"
   ]
  },
  {
   "cell_type": "code",
   "execution_count": null,
   "id": "c4220937",
   "metadata": {},
   "outputs": [],
   "source": [
    "plt.imshow(im1_masked)"
   ]
  },
  {
   "cell_type": "code",
   "execution_count": null,
   "id": "00b387dc",
   "metadata": {},
   "outputs": [],
   "source": [
    "plt.imshow(im1)"
   ]
  },
  {
   "cell_type": "code",
   "execution_count": null,
   "id": "24f927b9",
   "metadata": {},
   "outputs": [],
   "source": [
    "img = cv2.addWeighted(np.array(im1), 0.5, np.array(im1_masked), 0.5, 0.0)\n",
    "plt.imshow(img)"
   ]
  },
  {
   "cell_type": "markdown",
   "id": "05e83960",
   "metadata": {},
   "source": [
    "## Personal Code"
   ]
  },
  {
   "cell_type": "code",
   "execution_count": null,
   "id": "320081c7",
   "metadata": {},
   "outputs": [],
   "source": [
    "image_cv_temp = cv2.imread('../data/Oil Tanks/image_patches/01_0_0.jpg')"
   ]
  },
  {
   "cell_type": "code",
   "execution_count": null,
   "id": "9e854da1",
   "metadata": {},
   "outputs": [],
   "source": [
    "img = Image.open(path)\n",
    "img"
   ]
  },
  {
   "cell_type": "code",
   "execution_count": null,
   "id": "4ebe4127",
   "metadata": {},
   "outputs": [],
   "source": [
    "img_arr = np.array(img)\n",
    "img_arr"
   ]
  },
  {
   "cell_type": "code",
   "execution_count": null,
   "id": "47bde410",
   "metadata": {},
   "outputs": [],
   "source": [
    "plt.imshow(image_cv_temp)"
   ]
  }
 ],
 "metadata": {
  "kernelspec": {
   "display_name": "Python 3 (ipykernel)",
   "language": "python",
   "name": "python3"
  },
  "language_info": {
   "codemirror_mode": {
    "name": "ipython",
    "version": 3
   },
   "file_extension": ".py",
   "mimetype": "text/x-python",
   "name": "python",
   "nbconvert_exporter": "python",
   "pygments_lexer": "ipython3",
   "version": "3.8.12"
  },
  "toc": {
   "base_numbering": 1,
   "nav_menu": {},
   "number_sections": true,
   "sideBar": true,
   "skip_h1_title": false,
   "title_cell": "Table of Contents",
   "title_sidebar": "Contents",
   "toc_cell": false,
   "toc_position": {},
   "toc_section_display": true,
   "toc_window_display": false
  }
 },
 "nbformat": 4,
 "nbformat_minor": 5
}
