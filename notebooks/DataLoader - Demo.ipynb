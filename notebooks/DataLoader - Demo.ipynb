{
 "cells": [
  {
   "cell_type": "markdown",
   "id": "205f74ce",
   "metadata": {},
   "source": [
    "# Data Loader"
   ]
  },
  {
   "cell_type": "code",
   "execution_count": null,
   "id": "11669f3d",
   "metadata": {},
   "outputs": [],
   "source": [
    "from tensorflow import keras\n",
    "import numpy as np\n",
    "from tensorflow.keras.preprocessing.image import load_img"
   ]
  },
  {
   "cell_type": "code",
   "execution_count": null,
   "id": "3d0952e1",
   "metadata": {},
   "outputs": [],
   "source": [
    "# class CustomGen(keras.utils.Sequence):\n",
    "#\n",
    "#     def __init__(self,list_elements,list_elements_mask,batch_size, y_directory):\n",
    "#         self.list_elements=list_elements\n",
    "#         self.list_elements_mask = list_elements_mask\n",
    "#         self.batch_size = batch_size\n",
    "#         self.y_directory = y_directory\n",
    "#\n",
    "#     def __len__(self):\n",
    "#         return len(self.list_elements) // self.batch_size\n",
    "#\n",
    "#     def __getitem__(self,idx):\n",
    "#\n",
    "#         X_paths = self.list_elements[idx*self.batch_size:(idx+1)*self.batch_size]\n",
    "#\n",
    "#\n",
    "#\n",
    "#\n",
    "#         y_paths = self.list_elements_mask[idx*self.batch_size:(idx+1)*self.batch_size]\n",
    "#\n",
    "#         X=[]\n",
    "#         y=[]\n",
    "#\n",
    "#         for x_filename in X_paths:\n",
    "#             X.append(load_img('../data/Oil Tanks/image_patches/'+ x_filename))\\\n",
    "#             y_filename = x_filename.replace('.jpg','_mask.jpg')\n",
    "#             y_path = self.y_directory + y_filename\n",
    "#\n",
    "#             from os.path import exists\n",
    "#\n",
    "#             file_exists = exists(path_to_file)\n",
    "#             y.append(load_img('../data/Oil Tanks/image_patches/'+x_filename))\n",
    "#\n",
    "#\n",
    "#         return (X_paths,y_paths)"
   ]
  },
  {
   "cell_type": "code",
   "execution_count": null,
   "id": "7ac24465",
   "metadata": {},
   "outputs": [],
   "source": [
    "import os\n",
    "from os.path import exists\n",
    "import cv2\n",
    "\n",
    "class CustomGen(keras.utils.Sequence):\n",
    "\n",
    "    def __init__(self, img_path, img_path_mask, batch_size):\n",
    "        self.img_path = img_path\n",
    "        self.img_path_mask = img_path_mask\n",
    "        self.batch_size = batch_size\n",
    "        self.list_elements = os.listdir(self.img_path)\n",
    "        self.list_elements_mask = os.listdir(self.img_path_mask)\n",
    "\n",
    "    def __len__(self):\n",
    "#         self.list_elements = os.listdir(self.img_path)\n",
    "#         self.list_elements_mask = os.listdir(self.img_path_mask)\n",
    "        return len(self.list_elements) // self.batch_size\n",
    "\n",
    "    def __getitem__(self,idx):        \n",
    "        X_paths = self.list_elements[idx*self.batch_size:(idx+1)*self.batch_size]\n",
    "        y_paths = self.list_elements_mask[idx*self.batch_size:(idx+1)*self.batch_size]\n",
    "\n",
    "        X = []\n",
    "        y = []\n",
    "\n",
    "        for x_filename in X_paths:\n",
    "            X.append(load_img(self.img_path + x_filename))\n",
    "            y_filename = x_filename.replace('.jpg','_mask.jpg')\n",
    "            y_path = self.img_path_mask + y_filename\n",
    "            file_exists = exists(y_path)\n",
    "            if file_exists:\n",
    "                # y.append(load_img('../data/Oil Tanks/image_patches/'+x_filename))\n",
    "                temp_y = np.array(load_img(y_path))[:, :, 0:1]\n",
    "                y.append(temp_y)\n",
    "            else:\n",
    "#                 import ipdb; ipdb.set_trace()\n",
    "                img = cv2.imread(self.img_path + x_filename)\n",
    "                black_img = (img*0)[:, :, 0:1]\n",
    "                y.append(black_img)\n",
    "\n",
    "        return np.stack(X), np.stack(y)"
   ]
  },
  {
   "cell_type": "code",
   "execution_count": null,
   "id": "938035c4",
   "metadata": {},
   "outputs": [],
   "source": [
    "# path = '../data/Oil Tanks/image_patches/'"
   ]
  },
  {
   "cell_type": "code",
   "execution_count": null,
   "id": "7cb3a177",
   "metadata": {},
   "outputs": [],
   "source": [
    "# import os"
   ]
  },
  {
   "cell_type": "code",
   "execution_count": null,
   "id": "c1a346b2",
   "metadata": {},
   "outputs": [],
   "source": [
    "# batch_size=16\n",
    "# idx=1\n",
    "# print(f'{idx*batch_size}:{(idx+1)*batch_size}')"
   ]
  },
  {
   "cell_type": "code",
   "execution_count": null,
   "id": "31242ced",
   "metadata": {},
   "outputs": [],
   "source": [
    "# l_input =  os.listdir(path)"
   ]
  },
  {
   "cell_type": "code",
   "execution_count": null,
   "id": "1d0a0cda",
   "metadata": {},
   "outputs": [],
   "source": [
    "# l_test = [1,2,4,3,2,4,5,3,2,1,3,4,5,3]\n",
    "# l_test_mask = [2,4,5,3,2,4,5,3,2,1,3,4,5,3]"
   ]
  },
  {
   "cell_type": "code",
   "execution_count": null,
   "id": "86390688",
   "metadata": {},
   "outputs": [],
   "source": [
    "path_data = '../Oil Tanks/'\n",
    "img_path = path_data + 'image_patches/'\n",
    "img_path_mask = path_data + 'image_patches_mask/'"
   ]
  },
  {
   "cell_type": "code",
   "execution_count": null,
   "id": "63f1c63d",
   "metadata": {},
   "outputs": [],
   "source": [
    "data_loader = CustomGen(img_path, img_path_mask, 8)"
   ]
  },
  {
   "cell_type": "code",
   "execution_count": null,
   "id": "140ae8f3",
   "metadata": {},
   "outputs": [],
   "source": [
    "# l_test[1* 2:(1+1)*2]"
   ]
  },
  {
   "cell_type": "code",
   "execution_count": null,
   "id": "b4743e58",
   "metadata": {},
   "outputs": [],
   "source": [
    "len(data_loader)"
   ]
  },
  {
   "cell_type": "code",
   "execution_count": null,
   "id": "cdbcac3e",
   "metadata": {},
   "outputs": [],
   "source": [
    "X,y = data_loader.__getitem__(27)"
   ]
  },
  {
   "cell_type": "code",
   "execution_count": null,
   "id": "594f080d",
   "metadata": {},
   "outputs": [],
   "source": [
    "import matplotlib.pyplot as plt\n",
    "plt.subplot(1,2,1)\n",
    "plt.imshow(X[0])\n",
    "\n",
    "plt.subplot(1,2,2)\n",
    "plt.imshow(y[0], cmap ='gray')"
   ]
  },
  {
   "cell_type": "code",
   "execution_count": null,
   "id": "61f3fbc9",
   "metadata": {},
   "outputs": [],
   "source": [
    "# len(data_loader)"
   ]
  },
  {
   "cell_type": "code",
   "execution_count": null,
   "id": "fc90d430",
   "metadata": {},
   "outputs": [],
   "source": [
    "# len(data_loader)"
   ]
  },
  {
   "cell_type": "code",
   "execution_count": null,
   "id": "425fbd7f",
   "metadata": {
    "scrolled": false
   },
   "outputs": [],
   "source": [
    "# for i in range(len(data_loader)):\n",
    "#     X,y = data_loader.__getitem__(i)\n",
    "#     print(X.shape,y.shape)"
   ]
  },
  {
   "cell_type": "code",
   "execution_count": null,
   "id": "12a2f300",
   "metadata": {},
   "outputs": [],
   "source": [
    "X[0].shape, y[0].shape"
   ]
  },
  {
   "cell_type": "code",
   "execution_count": null,
   "id": "b5b357f7",
   "metadata": {},
   "outputs": [],
   "source": [
    "X.shape, y.shape"
   ]
  },
  {
   "cell_type": "code",
   "execution_count": null,
   "id": "ba2493cc",
   "metadata": {},
   "outputs": [],
   "source": []
  }
 ],
 "metadata": {
  "kernelspec": {
   "display_name": "Python 3 (ipykernel)",
   "language": "python",
   "name": "python3"
  },
  "language_info": {
   "codemirror_mode": {
    "name": "ipython",
    "version": 3
   },
   "file_extension": ".py",
   "mimetype": "text/x-python",
   "name": "python",
   "nbconvert_exporter": "python",
   "pygments_lexer": "ipython3",
   "version": "3.8.12"
  },
  "toc": {
   "base_numbering": 1,
   "nav_menu": {},
   "number_sections": true,
   "sideBar": true,
   "skip_h1_title": false,
   "title_cell": "Table of Contents",
   "title_sidebar": "Contents",
   "toc_cell": false,
   "toc_position": {},
   "toc_section_display": true,
   "toc_window_display": false
  }
 },
 "nbformat": 4,
 "nbformat_minor": 5
}
